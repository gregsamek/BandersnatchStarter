{
 "cells": [
  {
   "cell_type": "code",
   "execution_count": 1,
   "metadata": {},
   "outputs": [],
   "source": [
    "from data import Database\n",
    "import pandas as pd"
   ]
  },
  {
   "cell_type": "code",
   "execution_count": 2,
   "metadata": {},
   "outputs": [],
   "source": [
    "db = Database()\n",
    "df = db.dataframe()"
   ]
  },
  {
   "cell_type": "code",
   "execution_count": 3,
   "metadata": {},
   "outputs": [
    {
     "data": {
      "text/html": [
       "<div>\n",
       "<style scoped>\n",
       "    .dataframe tbody tr th:only-of-type {\n",
       "        vertical-align: middle;\n",
       "    }\n",
       "\n",
       "    .dataframe tbody tr th {\n",
       "        vertical-align: top;\n",
       "    }\n",
       "\n",
       "    .dataframe thead th {\n",
       "        text-align: right;\n",
       "    }\n",
       "</style>\n",
       "<table border=\"1\" class=\"dataframe\">\n",
       "  <thead>\n",
       "    <tr style=\"text-align: right;\">\n",
       "      <th></th>\n",
       "      <th>Name</th>\n",
       "      <th>Type</th>\n",
       "      <th>Level</th>\n",
       "      <th>Rarity</th>\n",
       "      <th>Damage</th>\n",
       "      <th>Health</th>\n",
       "      <th>Energy</th>\n",
       "      <th>Sanity</th>\n",
       "      <th>Timestamp</th>\n",
       "    </tr>\n",
       "    <tr>\n",
       "      <th>_id</th>\n",
       "      <th></th>\n",
       "      <th></th>\n",
       "      <th></th>\n",
       "      <th></th>\n",
       "      <th></th>\n",
       "      <th></th>\n",
       "      <th></th>\n",
       "      <th></th>\n",
       "      <th></th>\n",
       "    </tr>\n",
       "  </thead>\n",
       "  <tbody>\n",
       "    <tr>\n",
       "      <th>655d631bca59d65c5710e0e6</th>\n",
       "      <td>Red Wyrmling</td>\n",
       "      <td>Dragon</td>\n",
       "      <td>11</td>\n",
       "      <td>Rank 2</td>\n",
       "      <td>11d6+2</td>\n",
       "      <td>67.38</td>\n",
       "      <td>64.28</td>\n",
       "      <td>64.96</td>\n",
       "      <td>2023-11-21 18:10:35</td>\n",
       "    </tr>\n",
       "    <tr>\n",
       "      <th>655d631bca59d65c5710e0bd</th>\n",
       "      <td>Death Knight</td>\n",
       "      <td>Undead</td>\n",
       "      <td>11</td>\n",
       "      <td>Rank 1</td>\n",
       "      <td>11d4+1</td>\n",
       "      <td>42.33</td>\n",
       "      <td>42.57</td>\n",
       "      <td>43.56</td>\n",
       "      <td>2023-11-21 18:10:35</td>\n",
       "    </tr>\n",
       "    <tr>\n",
       "      <th>655d631bca59d65c5710e0ba</th>\n",
       "      <td>Dust Spirit</td>\n",
       "      <td>Fey</td>\n",
       "      <td>8</td>\n",
       "      <td>Rank 5</td>\n",
       "      <td>8d12+2</td>\n",
       "      <td>94.39</td>\n",
       "      <td>96.10</td>\n",
       "      <td>96.23</td>\n",
       "      <td>2023-11-21 18:10:35</td>\n",
       "    </tr>\n",
       "    <tr>\n",
       "      <th>655d631bca59d65c5710e0be</th>\n",
       "      <td>Goblin Guard</td>\n",
       "      <td>Devilkin</td>\n",
       "      <td>5</td>\n",
       "      <td>Rank 1</td>\n",
       "      <td>5d4</td>\n",
       "      <td>18.83</td>\n",
       "      <td>18.10</td>\n",
       "      <td>18.73</td>\n",
       "      <td>2023-11-21 18:10:35</td>\n",
       "    </tr>\n",
       "    <tr>\n",
       "      <th>655d631bca59d65c5710e0b9</th>\n",
       "      <td>Smoke Mephit</td>\n",
       "      <td>Elemental</td>\n",
       "      <td>13</td>\n",
       "      <td>Rank 3</td>\n",
       "      <td>13d8</td>\n",
       "      <td>100.87</td>\n",
       "      <td>100.31</td>\n",
       "      <td>103.28</td>\n",
       "      <td>2023-11-21 18:10:35</td>\n",
       "    </tr>\n",
       "    <tr>\n",
       "      <th>...</th>\n",
       "      <td>...</td>\n",
       "      <td>...</td>\n",
       "      <td>...</td>\n",
       "      <td>...</td>\n",
       "      <td>...</td>\n",
       "      <td>...</td>\n",
       "      <td>...</td>\n",
       "      <td>...</td>\n",
       "      <td>...</td>\n",
       "    </tr>\n",
       "    <tr>\n",
       "      <th>655d631bca59d65c5710e46e</th>\n",
       "      <td>Diamond Wyrmling</td>\n",
       "      <td>Dragon</td>\n",
       "      <td>12</td>\n",
       "      <td>Rank 4</td>\n",
       "      <td>12d10+1</td>\n",
       "      <td>124.76</td>\n",
       "      <td>123.70</td>\n",
       "      <td>121.63</td>\n",
       "      <td>2023-11-21 18:10:35</td>\n",
       "    </tr>\n",
       "    <tr>\n",
       "      <th>655d631bca59d65c5710e495</th>\n",
       "      <td>Brass Faerie</td>\n",
       "      <td>Fey</td>\n",
       "      <td>14</td>\n",
       "      <td>Rank 0</td>\n",
       "      <td>14d2+3</td>\n",
       "      <td>28.93</td>\n",
       "      <td>28.43</td>\n",
       "      <td>28.23</td>\n",
       "      <td>2023-11-21 18:10:35</td>\n",
       "    </tr>\n",
       "    <tr>\n",
       "      <th>655d631bca59d65c5710e4ac</th>\n",
       "      <td>Poltergeist</td>\n",
       "      <td>Undead</td>\n",
       "      <td>6</td>\n",
       "      <td>Rank 3</td>\n",
       "      <td>6d8</td>\n",
       "      <td>45.11</td>\n",
       "      <td>44.84</td>\n",
       "      <td>50.85</td>\n",
       "      <td>2023-11-21 18:10:35</td>\n",
       "    </tr>\n",
       "    <tr>\n",
       "      <th>655d631bca59d65c5710e4b3</th>\n",
       "      <td>Red Faerie</td>\n",
       "      <td>Fey</td>\n",
       "      <td>5</td>\n",
       "      <td>Rank 1</td>\n",
       "      <td>5d4+2</td>\n",
       "      <td>20.83</td>\n",
       "      <td>19.68</td>\n",
       "      <td>21.13</td>\n",
       "      <td>2023-11-21 18:10:35</td>\n",
       "    </tr>\n",
       "    <tr>\n",
       "      <th>655d631bca59d65c5710e4b5</th>\n",
       "      <td>Efreeti</td>\n",
       "      <td>Elemental</td>\n",
       "      <td>6</td>\n",
       "      <td>Rank 2</td>\n",
       "      <td>6d6+1</td>\n",
       "      <td>34.91</td>\n",
       "      <td>34.14</td>\n",
       "      <td>35.24</td>\n",
       "      <td>2023-11-21 18:10:35</td>\n",
       "    </tr>\n",
       "  </tbody>\n",
       "</table>\n",
       "<p>1024 rows × 9 columns</p>\n",
       "</div>"
      ],
      "text/plain": [
       "                                      Name       Type  Level  Rarity   Damage  \\\n",
       "_id                                                                             \n",
       "655d631bca59d65c5710e0e6      Red Wyrmling     Dragon     11  Rank 2   11d6+2   \n",
       "655d631bca59d65c5710e0bd      Death Knight     Undead     11  Rank 1   11d4+1   \n",
       "655d631bca59d65c5710e0ba       Dust Spirit        Fey      8  Rank 5   8d12+2   \n",
       "655d631bca59d65c5710e0be      Goblin Guard   Devilkin      5  Rank 1      5d4   \n",
       "655d631bca59d65c5710e0b9      Smoke Mephit  Elemental     13  Rank 3     13d8   \n",
       "...                                    ...        ...    ...     ...      ...   \n",
       "655d631bca59d65c5710e46e  Diamond Wyrmling     Dragon     12  Rank 4  12d10+1   \n",
       "655d631bca59d65c5710e495      Brass Faerie        Fey     14  Rank 0   14d2+3   \n",
       "655d631bca59d65c5710e4ac       Poltergeist     Undead      6  Rank 3      6d8   \n",
       "655d631bca59d65c5710e4b3        Red Faerie        Fey      5  Rank 1    5d4+2   \n",
       "655d631bca59d65c5710e4b5           Efreeti  Elemental      6  Rank 2    6d6+1   \n",
       "\n",
       "                          Health  Energy  Sanity            Timestamp  \n",
       "_id                                                                    \n",
       "655d631bca59d65c5710e0e6   67.38   64.28   64.96  2023-11-21 18:10:35  \n",
       "655d631bca59d65c5710e0bd   42.33   42.57   43.56  2023-11-21 18:10:35  \n",
       "655d631bca59d65c5710e0ba   94.39   96.10   96.23  2023-11-21 18:10:35  \n",
       "655d631bca59d65c5710e0be   18.83   18.10   18.73  2023-11-21 18:10:35  \n",
       "655d631bca59d65c5710e0b9  100.87  100.31  103.28  2023-11-21 18:10:35  \n",
       "...                          ...     ...     ...                  ...  \n",
       "655d631bca59d65c5710e46e  124.76  123.70  121.63  2023-11-21 18:10:35  \n",
       "655d631bca59d65c5710e495   28.93   28.43   28.23  2023-11-21 18:10:35  \n",
       "655d631bca59d65c5710e4ac   45.11   44.84   50.85  2023-11-21 18:10:35  \n",
       "655d631bca59d65c5710e4b3   20.83   19.68   21.13  2023-11-21 18:10:35  \n",
       "655d631bca59d65c5710e4b5   34.91   34.14   35.24  2023-11-21 18:10:35  \n",
       "\n",
       "[1024 rows x 9 columns]"
      ]
     },
     "execution_count": 3,
     "metadata": {},
     "output_type": "execute_result"
    }
   ],
   "source": [
    "df"
   ]
  },
  {
   "cell_type": "code",
   "execution_count": 87,
   "metadata": {},
   "outputs": [],
   "source": [
    "X = df[['Level', 'Health', 'Energy', 'Sanity']]\n",
    "y = df['Rarity']"
   ]
  },
  {
   "cell_type": "code",
   "execution_count": 88,
   "metadata": {},
   "outputs": [],
   "source": [
    "from sklearn.model_selection import train_test_split\n",
    "\n",
    "X_train, X_test, y_train, y_test = train_test_split(X, y)"
   ]
  },
  {
   "cell_type": "code",
   "execution_count": 89,
   "metadata": {},
   "outputs": [
    {
     "data": {
      "text/plain": [
       "Rarity\n",
       "Rank 0    0.300781\n",
       "Rank 1    0.230469\n",
       "Rank 2    0.209961\n",
       "Rank 3    0.143555\n",
       "Rank 4    0.090820\n",
       "Rank 5    0.024414\n",
       "Name: proportion, dtype: float64"
      ]
     },
     "execution_count": 89,
     "metadata": {},
     "output_type": "execute_result"
    }
   ],
   "source": [
    "df['Rarity'].value_counts(normalize=True)"
   ]
  },
  {
   "cell_type": "code",
   "execution_count": 90,
   "metadata": {},
   "outputs": [
    {
     "data": {
      "text/plain": [
       "0.265625"
      ]
     },
     "execution_count": 90,
     "metadata": {},
     "output_type": "execute_result"
    }
   ],
   "source": [
    "from sklearn.dummy import DummyClassifier\n",
    "\n",
    "dummy = DummyClassifier(strategy='most_frequent')\n",
    "\n",
    "dummy.fit(X_train, y_train)\n",
    "\n",
    "dummy.score(X_test, y_test)"
   ]
  },
  {
   "cell_type": "code",
   "execution_count": 106,
   "metadata": {},
   "outputs": [
    {
     "data": {
      "text/plain": [
       "0.953125"
      ]
     },
     "execution_count": 106,
     "metadata": {},
     "output_type": "execute_result"
    }
   ],
   "source": [
    "from sklearn.linear_model import LogisticRegression\n",
    "\n",
    "lr = LogisticRegression(max_iter=1000)\n",
    "\n",
    "lr.fit(X_train, y_train)\n",
    "\n",
    "lr.score(X_test, y_test)"
   ]
  },
  {
   "cell_type": "markdown",
   "metadata": {},
   "source": [
    "We are not using the StandardScaler in our data preprocessing pipeline because the \"Level\" feature in our dataset is not normally distributed. The StandardScaler assumes that the data follows a normal distribution, but in our case, the distribution of the \"Level\" feature deviates from normality. Applying the StandardScaler degrades performance of the lr model (I verified this empirically). Our features (and therefore coefficients) are still similar enough in scale that this is not a serious concern."
   ]
  },
  {
   "cell_type": "code",
   "execution_count": 108,
   "metadata": {},
   "outputs": [
    {
     "data": {
      "text/plain": [
       "Level\n",
       "1     0.027344\n",
       "2     0.096680\n",
       "3     0.097656\n",
       "4     0.073242\n",
       "5     0.080078\n",
       "6     0.092773\n",
       "7     0.070312\n",
       "8     0.075195\n",
       "9     0.048828\n",
       "10    0.060547\n",
       "11    0.058594\n",
       "12    0.054688\n",
       "13    0.046875\n",
       "14    0.033203\n",
       "15    0.026367\n",
       "16    0.026367\n",
       "17    0.014648\n",
       "18    0.007812\n",
       "19    0.006836\n",
       "20    0.001953\n",
       "Name: proportion, dtype: float64"
      ]
     },
     "execution_count": 108,
     "metadata": {},
     "output_type": "execute_result"
    }
   ],
   "source": [
    "df['Level'].value_counts(normalize=True).sort_index()"
   ]
  },
  {
   "cell_type": "code",
   "execution_count": 93,
   "metadata": {},
   "outputs": [
    {
     "data": {
      "text/plain": [
       "array([[ 7.43626404, -0.62365711, -0.59467101, -0.67358305],\n",
       "       [ 3.2336191 , -0.0549516 , -0.25553982, -0.05812833],\n",
       "       [ 0.94798661, -0.0244049 ,  0.07795233,  0.04566017],\n",
       "       [-1.39813478,  0.09397416,  0.24226475,  0.10574671],\n",
       "       [-4.79061272,  0.28073955,  0.32056558,  0.23580602],\n",
       "       [-5.42912225,  0.3282999 ,  0.20942817,  0.34449848]])"
      ]
     },
     "execution_count": 93,
     "metadata": {},
     "output_type": "execute_result"
    }
   ],
   "source": [
    "lr.coef_"
   ]
  },
  {
   "cell_type": "code",
   "execution_count": 94,
   "metadata": {},
   "outputs": [
    {
     "data": {
      "text/plain": [
       "0.796875"
      ]
     },
     "execution_count": 94,
     "metadata": {},
     "output_type": "execute_result"
    }
   ],
   "source": [
    "from sklearn.neighbors import KNeighborsClassifier\n",
    "\n",
    "knn = KNeighborsClassifier()\n",
    "\n",
    "knn.fit(X_train, y_train)\n",
    "\n",
    "knn.score(X_test, y_test)"
   ]
  },
  {
   "cell_type": "code",
   "execution_count": 95,
   "metadata": {},
   "outputs": [
    {
     "data": {
      "text/plain": [
       "0.91015625"
      ]
     },
     "execution_count": 95,
     "metadata": {},
     "output_type": "execute_result"
    }
   ],
   "source": [
    "from sklearn.tree import DecisionTreeClassifier\n",
    "\n",
    "dt = DecisionTreeClassifier()\n",
    "\n",
    "dt.fit(X_train, y_train)\n",
    "\n",
    "dt.score(X_test, y_test)"
   ]
  },
  {
   "cell_type": "code",
   "execution_count": 96,
   "metadata": {},
   "outputs": [
    {
     "data": {
      "text/plain": [
       "0.94140625"
      ]
     },
     "execution_count": 96,
     "metadata": {},
     "output_type": "execute_result"
    }
   ],
   "source": [
    "from sklearn.ensemble import RandomForestClassifier\n",
    "\n",
    "rf = RandomForestClassifier()\n",
    "\n",
    "rf.fit(X_train, y_train)\n",
    "\n",
    "rf.score(X_test, y_test)"
   ]
  },
  {
   "cell_type": "code",
   "execution_count": 107,
   "metadata": {},
   "outputs": [
    {
     "name": "stderr",
     "output_type": "stream",
     "text": [
      "/Users/gregorysamek/anaconda3/envs/bandersnatchstarter/lib/python3.12/site-packages/sklearn/linear_model/_logistic.py:460: ConvergenceWarning: lbfgs failed to converge (status=1):\n",
      "STOP: TOTAL NO. of ITERATIONS REACHED LIMIT.\n",
      "\n",
      "Increase the number of iterations (max_iter) or scale the data as shown in:\n",
      "    https://scikit-learn.org/stable/modules/preprocessing.html\n",
      "Please also refer to the documentation for alternative solver options:\n",
      "    https://scikit-learn.org/stable/modules/linear_model.html#logistic-regression\n",
      "  n_iter_i = _check_optimize_result(\n"
     ]
    },
    {
     "data": {
      "text/plain": [
       "array([0.97560976, 0.96097561, 0.9804878 , 0.94634146, 0.9754902 ])"
      ]
     },
     "execution_count": 107,
     "metadata": {},
     "output_type": "execute_result"
    }
   ],
   "source": [
    "from sklearn.preprocessing import StandardScaler\n",
    "from sklearn.model_selection import KFold, cross_val_score\n",
    "\n",
    "kf = KFold(n_splits=5, shuffle=True, random_state=1948)\n",
    "\n",
    "cross_val_score(lr, X, y, cv=kf, n_jobs=-1)"
   ]
  },
  {
   "cell_type": "code",
   "execution_count": 98,
   "metadata": {},
   "outputs": [
    {
     "data": {
      "text/plain": [
       "array([0.95609756, 0.94146341, 0.96585366, 0.94146341, 0.94607843])"
      ]
     },
     "execution_count": 98,
     "metadata": {},
     "output_type": "execute_result"
    }
   ],
   "source": [
    "cross_val_score(rf, X, y, cv=kf, n_jobs=-1)"
   ]
  },
  {
   "cell_type": "markdown",
   "metadata": {},
   "source": [
    "Logisitic Regression appears to perform better than even a random forest classifier. Given that our data was generated synthetically using a straightforward process, it makes sense that regression is sufficient to model the data well. Given the simplicity (and therefore speed) of regression relative to a more complex ensemble classifier, lr is the obvious choice for our production model."
   ]
  }
 ],
 "metadata": {
  "kernelspec": {
   "display_name": "bandersnatchstarter",
   "language": "python",
   "name": "python3"
  },
  "language_info": {
   "codemirror_mode": {
    "name": "ipython",
    "version": 3
   },
   "file_extension": ".py",
   "mimetype": "text/x-python",
   "name": "python",
   "nbconvert_exporter": "python",
   "pygments_lexer": "ipython3",
   "version": "3.12.0"
  }
 },
 "nbformat": 4,
 "nbformat_minor": 2
}
